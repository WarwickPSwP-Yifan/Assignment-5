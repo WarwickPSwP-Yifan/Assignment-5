{
 "cells": [
  {
   "cell_type": "code",
   "execution_count": 10,
   "metadata": {},
   "outputs": [
    {
     "name": "stdout",
     "output_type": "stream",
     "text": [
      "Please input the number you want to find10\n",
      "The location of 10 is (2.0, -1.0)\n"
     ]
    }
   ],
   "source": [
    "# This is my algorithm by python\n",
    "import math\n",
    "\n",
    "n=int(input('Please input the number you want to find'))\n",
    "b=int(math.sqrt(n))\n",
    "k=b+1\n",
    "r_m=b**2# r_m is actually r_k-1\n",
    "r_k=k**2\n",
    "def algorithm(n):\n",
    "    d=n-r_m\n",
    "    if b%2==0:\n",
    "        m=b/2\n",
    "        if d==0:\n",
    "            n_location=(-m+1,m)\n",
    "        if d==1:\n",
    "            n_location=(-m,m)\n",
    "        if 1<d<=k:\n",
    "            n_location=(-m,m-(d-1))\n",
    "        if k<d<=2*k-1:\n",
    "            n_location=(-m+(d-k),-m)\n",
    "    else:\n",
    "        m=(b-1)/2\n",
    "        if d==0:\n",
    "            n_location=(m,-m)\n",
    "        if d==1:\n",
    "            n_location=(m+1,-m)\n",
    "        if 1<d<=k:\n",
    "            n_location=(m+1,-m+(d-1))\n",
    "        if k<d<=2*k-1:\n",
    "            n_location=(m+1-(d-k),m+1)\n",
    "    return n_location\n",
    "print('The location of',n,'is',algorithm(n))\n",
    "    \n",
    "    \n"
   ]
  },
  {
   "cell_type": "code",
   "execution_count": 8,
   "metadata": {},
   "outputs": [
    {
     "name": "stdout",
     "output_type": "stream",
     "text": [
      "Please input the number10\n",
      "10 is located at (2, -1)\n"
     ]
    }
   ],
   "source": [
    "# This is using Python to realize the expansion\n",
    "def location(n):\n",
    "    \n",
    "    if n == 1:\n",
    "        n_location (0, 0)\n",
    "    \n",
    "    # This is using vectors to realize the directions of arrow\n",
    "    directions = [(1, 0), (0, 1), (-1, 0), (0, -1)]\n",
    "    \n",
    "    x=0\n",
    "    y=0#define the initial (x,y)\n",
    "    current_number = 1         \n",
    "    step_size = 1       \n",
    "    arrow_index = 0  #This is using to call the corresponding direction of arrow,0:(1,0) \n",
    "#means go right,1:(0,1)means go up,2:(-1,0)means go left,3:(0,-1) means go down.\n",
    "    \n",
    "    while current_number < n: #Repeat, until the current number reaches n\n",
    "        # Steps are 1,1,2,2,3,3,..... Hence, each step_size will repeat twice\n",
    "        for i in range(2):\n",
    "            a1, a2 = directions[arrow_index % 4]#I only have arrow_index from 0 to 3, \n",
    "#therefore, by taking the arrow_index mod 4 can give me the corresponding arrow.(a1,a2) is the direction vector\n",
    "\n",
    "            # Each step_size will run twice, then go with step_size+1\n",
    "            for j in range(step_size):\n",
    "                if current_number == n:\n",
    "                    break\n",
    "                x =x+a1\n",
    "                y =y+a2\n",
    "                current_number=current_number+1\n",
    "                if current_number == n:\n",
    "                    return (x, y)\n",
    "            arrow_index=arrow_index+1  # change to next direction\n",
    "        step_size = step_size+1\n",
    "    \n",
    "    return (x, y)\n",
    "\n",
    "n=int(input('Please input the number'))\n",
    "n_location=location(n)\n",
    "print(n,'is located at',n_location)"
   ]
  },
  {
   "cell_type": "code",
   "execution_count": 18,
   "metadata": {},
   "outputs": [
    {
     "name": "stdout",
     "output_type": "stream",
     "text": [
      "Please input the number you want to find,take n>128\n",
      "28 is located at (3.0, 0.0) verified by both\n"
     ]
    }
   ],
   "source": [
    "#Now combine the two codes to form a automatical verification\n",
    "import math\n",
    "\n",
    "n=int(input('Please input the number you want to find,take n>1'))\n",
    "b=int(math.sqrt(n))\n",
    "k=b+1\n",
    "r_m=b**2# r_m is actually r_k-1\n",
    "r_k=k**2\n",
    "def algorithm(n):\n",
    "    d=n-r_m\n",
    "    if b%2==0:\n",
    "        m=b/2\n",
    "        if d==0:\n",
    "            n_location=(-m+1,m)\n",
    "        if d==1:\n",
    "            n_location=(-m,m)\n",
    "        if 1<d<=k:\n",
    "            n_location=(-m,m-(d-1))\n",
    "        if k<d<=2*k-1:\n",
    "            n_location=(-m+(d-k),-m)\n",
    "    else:\n",
    "        m=(b-1)/2\n",
    "        if d==0:\n",
    "            n_location=(m,-m)\n",
    "        if d==1:\n",
    "            n_location=(m+1,-m)\n",
    "        if 1<d<=k:\n",
    "            n_location=(m+1,-m+(d-1))\n",
    "        if k<d<=2*k-1:\n",
    "            n_location=(m+1-(d-k),m+1)\n",
    "    return n_location\n",
    "\n",
    "def location(n):\n",
    "    \n",
    "    # This is using vectors to realize the directions of arrow\n",
    "    directions = [(1, 0), (0, 1), (-1, 0), (0, -1)]\n",
    "    \n",
    "    x=0\n",
    "    y=0#define the initial (x,y)\n",
    "    current_number = 1         \n",
    "    step_size = 1       \n",
    "    arrow_index = 0  #This is using to call the corresponding direction of arrow,0:(1,0) \n",
    "#means go right,1:(0,1)means go up,2:(-1,0)means go left,3:(0,-1) means go down.\n",
    "    \n",
    "    while current_number < n: #Repeat, until the current number reaches n\n",
    "        # Steps are 1,1,2,2,3,3,..... Hence, each step_size will repeat twice\n",
    "        for u in range(2):\n",
    "            a1, a2 = directions[arrow_index % 4]#I only have arrow_index from 0 to 3, \n",
    "#therefore, by taking the arrow_index mod 4 can give me the corresponding arrow.(a1,a2) is the direction vector\n",
    "\n",
    "            # Each step_size will run twice, then go with step_size+1\n",
    "            for v in range(step_size):\n",
    "                if current_number == n:\n",
    "                    break\n",
    "                x =x+a1\n",
    "                y =y+a2\n",
    "                current_number=current_number+1\n",
    "                if current_number == n:\n",
    "                    return (x, y)\n",
    "            arrow_index=arrow_index+1  # change to next direction\n",
    "        step_size = step_size+1\n",
    "    \n",
    "    return (x, y)\n",
    "\n",
    "def verify(n):\n",
    "    if location(n)==algorithm(n):\n",
    "        print(n,'is located at',algorithm(n),'verified by both')\n",
    "    else:\n",
    "        print('Something wrong with my program')\n",
    "\n",
    "verify(n)"
   ]
  },
  {
   "cell_type": "code",
   "execution_count": null,
   "metadata": {},
   "outputs": [],
   "source": []
  },
  {
   "cell_type": "code",
   "execution_count": null,
   "metadata": {},
   "outputs": [],
   "source": []
  }
 ],
 "metadata": {
  "kernelspec": {
   "display_name": "Python 3 (ipykernel)",
   "language": "python",
   "name": "python3"
  },
  "language_info": {
   "codemirror_mode": {
    "name": "ipython",
    "version": 3
   },
   "file_extension": ".py",
   "mimetype": "text/x-python",
   "name": "python",
   "nbconvert_exporter": "python",
   "pygments_lexer": "ipython3",
   "version": "3.11.0"
  }
 },
 "nbformat": 4,
 "nbformat_minor": 2
}
